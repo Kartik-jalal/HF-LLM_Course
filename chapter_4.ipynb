{
 "cells": [
  {
   "cell_type": "markdown",
   "id": "109c70ee",
   "metadata": {},
   "source": [
    "# Sharing Pretrained Models\n",
    "\n",
    "The simplest way to upload files to the [Hugging Face Hub](https://huggingface.co/) is by leveraging the `push_to_hub` API.\n",
    "\n",
    "First, you’ll need to generate an authentication token so that the huggingface_hub API knows who you are and what namespaces you have write access to.\n",
    "> Note: You'll need a huggingface account for this and if you don't have one, you can create one [here](https://huggingface.co/join)."
   ]
  },
  {
   "cell_type": "code",
   "execution_count": null,
   "id": "bcc1fe72",
   "metadata": {},
   "outputs": [],
   "source": [
    "from huggingface_hub import notebook_login\n",
    "\n",
    "notebook_login()"
   ]
  },
  {
   "cell_type": "markdown",
   "id": "834d215f",
   "metadata": {},
   "source": [
    "### Using the `push_to_hub` API\n",
    "\n",
    "If we are using the `Trainer` API to train a model, the easiest way to upload the model to the Hub is to set `push_to_hub=True` when you define your `TrainingArguments`. Then, when you call trainer.train(), the Trainer will then upload your model to the Hub each time it is saved based on the `save_strategy=\"epoch\"` (here after every *epoch* it will be uploaded) in a repository in your namespace. By deafult, that repository will be named like the output directory you picked, but you can choose a different name with `hub_model_id=\"a_different_name\"`.<br />\n",
    "To upload your model to an organization you are a member of, just pass it with `hub_model_id=\"my_organization/my_repo_name\"`.\n",
    "\n",
    "> Once your training is finished, you should do a final `trainer.push_to_hub()` to upload the last version of your model. This will also generate a model card with all the relevant metadata, reporting the hyperparameters used and the evaluation results!"
   ]
  },
  {
   "cell_type": "code",
   "execution_count": null,
   "id": "61acbd00",
   "metadata": {},
   "outputs": [],
   "source": [
    "from transformers import TrainingArguments\n",
    "\n",
    "training_args = TrainingArguments(\n",
    "    \"bert-finetuned-mrpc\",\n",
    "    save_strategy=\"epoch\",\n",
    "    push_to_hub=True,\n",
    "    hub_model_id = \"bert-finetuned-mrpc\"\n",
    ")"
   ]
  },
  {
   "cell_type": "markdown",
   "id": "70738e00",
   "metadata": {},
   "source": [
    "Now, if the model was trained instead on a custom *Full Training Loop*, then we directly use the `models`, `tokenizers`, and `configuration` objects `push_to_hub()` method. This method takes care of both the repository creation and pushing the model and tokenizer files directly to the repository."
   ]
  },
  {
   "cell_type": "code",
   "execution_count": null,
   "id": "0235d27e",
   "metadata": {},
   "outputs": [],
   "source": [
    "from transformers import AutoModelForMaskedLM, AutoTokenizer\n",
    "\n",
    "checkpoint = \"camembert-base\"\n",
    "\n",
    "model = AutoModelForMaskedLM.from_pretrained(checkpoint)\n",
    "tokenizer = AutoTokenizer.from_pretrained(checkpoint)"
   ]
  },
  {
   "cell_type": "markdown",
   "id": "ea90216c",
   "metadata": {},
   "source": [
    "Now after fine-tune, once you’re happy with the resulting model, weights, and tokenizer, you can leverage the `push_to_hub()`:"
   ]
  },
  {
   "cell_type": "code",
   "execution_count": null,
   "id": "3797894b",
   "metadata": {},
   "outputs": [],
   "source": [
    "model.push_to_hub(\"dummy-model\")\n",
    "tokenizer.push_to_hub(\"dummy-model\")"
   ]
  },
  {
   "cell_type": "markdown",
   "id": "e573c9d5",
   "metadata": {},
   "source": [
    "This will create the new repository **dummy-model** in your profile\n",
    "<br />\n",
    "If you belong to an organization, simply specify the organization argument `organization=\"my_organization\"` to upload to that organization’s namespace. And, if you wish to use a specific Hugging Face token `use_auth_token=\"<TOKEN>`. So:\n",
    "```python\n",
    "tokenizer.push_to_hub(\"dummy-model\", organization=\"my_organization\", use_auth_token=\"<TOKEN>\")\n",
    "```\n",
    "\n",
    "\n",
    "Lastly, one can also use the `huggingface_hub` API or `git` to upload a model to the *Hugging Face Hub* (have a look [here](https://huggingface.co/learn/llm-course/chapter4/3?fw=pt#using-the-huggingfacehub-python-library)).\n",
    "\n",
    "> To find your newly uploaded model: https://huggingface.co/user-or-organization/dummy-model."
   ]
  },
  {
   "cell_type": "markdown",
   "id": "781a937e",
   "metadata": {},
   "source": [
    "# The End!"
   ]
  }
 ],
 "metadata": {
  "kernelspec": {
   "display_name": ".venv (3.12.3)",
   "language": "python",
   "name": "python3"
  },
  "language_info": {
   "codemirror_mode": {
    "name": "ipython",
    "version": 3
   },
   "file_extension": ".py",
   "mimetype": "text/x-python",
   "name": "python",
   "nbconvert_exporter": "python",
   "pygments_lexer": "ipython3",
   "version": "3.12.3"
  }
 },
 "nbformat": 4,
 "nbformat_minor": 5
}
